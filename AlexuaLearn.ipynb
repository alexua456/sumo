{
  "nbformat": 4,
  "nbformat_minor": 0,
  "metadata": {
    "colab": {
      "name": "AlexuaLearn.ipynb",
      "provenance": [],
      "authorship_tag": "ABX9TyPIl1/tog6yjHGbsXooMMLM",
      "include_colab_link": true
    },
    "kernelspec": {
      "name": "python3",
      "display_name": "Python 3"
    }
  },
  "cells": [
    {
      "cell_type": "markdown",
      "metadata": {
        "id": "view-in-github",
        "colab_type": "text"
      },
      "source": [
        "<a href=\"https://colab.research.google.com/github/alexua456/sumo/blob/master/AlexuaLearn.ipynb\" target=\"_parent\"><img src=\"https://colab.research.google.com/assets/colab-badge.svg\" alt=\"Open In Colab\"/></a>"
      ]
    },
    {
      "cell_type": "code",
      "metadata": {
        "colab": {
          "base_uri": "https://localhost:8080/"
        },
        "id": "CySJTIjHDbRQ",
        "outputId": "ccd64f20-4cf4-44f4-fa3d-30e0b3658724"
      },
      "source": [
        "import time\r\n",
        "print(time.ctime())"
      ],
      "execution_count": 5,
      "outputs": [
        {
          "output_type": "stream",
          "text": [
            "Tue Mar  9 13:41:14 2021\n"
          ],
          "name": "stdout"
        }
      ]
    },
    {
      "cell_type": "code",
      "metadata": {
        "colab": {
          "base_uri": "https://localhost:8080/"
        },
        "id": "2wf_YYSxMDRF",
        "outputId": "872fc80d-ba35-4a4e-bd5c-52fabeeb38e3"
      },
      "source": [
        "time.sleep(5)\r\n",
        "print(time.ctime())"
      ],
      "execution_count": 4,
      "outputs": [
        {
          "output_type": "stream",
          "text": [
            "Tue Mar  9 13:38:29 2021\n"
          ],
          "name": "stdout"
        }
      ]
    },
    {
      "cell_type": "markdown",
      "metadata": {
        "id": "OhRnfYaWOhRl"
      },
      "source": [
        "This is **bold**\r\n",
        "This is *italic*\r\n",
        "This is a strikethrough\r\n",
        "This is **Alexua**"
      ]
    },
    {
      "cell_type": "markdown",
      "metadata": {
        "id": "IymYLFXTPYqM"
      },
      "source": [
        "$\\sqrt{3x-1}+(1+x)^2$\r\n",
        "\r\n",
        "$e^x=\\sum_{i=0}^\\infty \\frac{1}{i!}x^i$"
      ]
    }
  ]
}